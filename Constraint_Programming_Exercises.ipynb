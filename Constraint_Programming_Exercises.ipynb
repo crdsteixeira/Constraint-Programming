{
 "cells": [
  {
   "cell_type": "markdown",
   "id": "ac6d2b64",
   "metadata": {},
   "source": [
    "# Constraint Programming"
   ]
  },
  {
   "cell_type": "code",
   "execution_count": 97,
   "id": "1636233f",
   "metadata": {},
   "outputs": [],
   "source": [
    "from docplex.cp.model import *"
   ]
  },
  {
   "cell_type": "markdown",
   "id": "bc7ff481",
   "metadata": {},
   "source": [
    "## Magic Square"
   ]
  },
  {
   "attachments": {},
   "cell_type": "markdown",
   "id": "59000397",
   "metadata": {},
   "source": [
    "### Solve the 3x3 Magic Square\n"
   ]
  },
  {
   "cell_type": "code",
   "execution_count": 98,
   "id": "798637c8",
   "metadata": {},
   "outputs": [],
   "source": [
    "SIZE = 3\n",
    "\n",
    "m_mdl = CpoModel(name=\"magic_square\")\n",
    "\n",
    "square = m_mdl.integer_var_list(size=SIZE * SIZE, min=1, max=SIZE * SIZE, name=\"squares\" ) #creates column index for square\n",
    "\n",
    "addition = m_mdl.integer_var(min=1, max=SIZE * SIZE * SIZE, name=\"addition\")\n",
    "\n",
    "# Creates var for each position\n",
    "\n",
    "for line in range(SIZE):\n",
    "    for col in range(SIZE):\n",
    "        square[line * 3 + col] = m_mdl.integer_var(1, SIZE * SIZE, 'v'+ str(line + 1) + str(col + 1)) \n",
    "\n",
    "# Restrictions for addition        \n",
    "        \n",
    "for i in range(SIZE):\n",
    "    m_mdl.add(square[i*3] + square[i*3+1] + square[i*3+2] == addition)\n",
    "    m_mdl.add(square[i] + square[3+i] + square[6+i] == addition)\n",
    "\n",
    "m_mdl.add(square[0] + square[4] + square[8] == addition)\n",
    "m_mdl.add(square[6] + square[4] + square[2] == addition)\n",
    "\n",
    "m_mdl.add(m_mdl.all_diff(square))"
   ]
  },
  {
   "cell_type": "code",
   "execution_count": 99,
   "id": "829ddad7",
   "metadata": {},
   "outputs": [
    {
     "name": "stdout",
     "output_type": "stream",
     "text": [
      " ! --------------------------------------------------- CP Optimizer 22.1.0.0 --\n",
      " ! Satisfiability problem - 10 variables, 9 constraints\n",
      " ! Initial process time : 0.01s (0.01s extraction + 0.00s propagation)\n",
      " !  . Log search space  : 33.2 (before), 33.2 (after)\n",
      " !  . Memory usage      : 267.3 kB (before), 267.3 kB (after)\n",
      " ! Using parallel search with 12 workers.\n",
      " ! ----------------------------------------------------------------------------\n",
      " !               Branches  Non-fixed    W       Branch decision\n",
      " *                    309  0.02s        1         1  = v21\n",
      " ! ----------------------------------------------------------------------------\n",
      " ! Search completed, 1 solution found.\n",
      " ! ----------------------------------------------------------------------------\n",
      " ! Number of branches     : 3558\n",
      " ! Number of fails        : 1798\n",
      " ! Total memory usage     : 5.9 MB (5.8 MB CP Optimizer + 0.0 MB Concert)\n",
      " ! Time spent in solve    : 0.02s (0.02s engine + 0.01s extraction)\n",
      " ! Search speed (br. / s) : 209294.1\n",
      " ! ----------------------------------------------------------------------------\n"
     ]
    }
   ],
   "source": [
    "solution = m_mdl.solve()"
   ]
  },
  {
   "cell_type": "code",
   "execution_count": 100,
   "id": "a99d2537",
   "metadata": {},
   "outputs": [
    {
     "name": "stdout",
     "output_type": "stream",
     "text": [
      "-------------------------------------------------------------------------------\n",
      "Model constraints: 9, variables: integer: 10, interval: 0, sequence: 0\n",
      "Solve status: Feasible\n",
      "Search status: SearchCompleted, stop cause: SearchHasNotBeenStopped\n",
      "Solve time: 0.02 sec\n",
      "-------------------------------------------------------------------------------\n",
      "Variables:\n",
      "   addition = 15\n",
      "   v11 = 8\n",
      "   v12 = 3\n",
      "   v13 = 4\n",
      "   v21 = 1\n",
      "   v22 = 5\n",
      "   v23 = 9\n",
      "   v31 = 6\n",
      "   v32 = 7\n",
      "   v33 = 2\n"
     ]
    }
   ],
   "source": [
    "solution.print_solution()"
   ]
  },
  {
   "cell_type": "markdown",
   "id": "96988678",
   "metadata": {},
   "source": [
    "## N-Queens"
   ]
  },
  {
   "cell_type": "markdown",
   "id": "6052f1d1",
   "metadata": {},
   "source": [
    "### Solving the generic N-Queens problem"
   ]
  },
  {
   "cell_type": "code",
   "execution_count": 101,
   "id": "90154b57",
   "metadata": {},
   "outputs": [],
   "source": [
    "NQueens = 8\n",
    "\n",
    "q_mdl = CpoModel()\n",
    "\n",
    "# Create column index of each queen\n",
    "x = q_mdl.integer_var_list(NQueens, 1, NQueens, \"Line\") \n",
    "\n",
    "# One queen per row\n",
    "q_mdl.add(q_mdl.all_diff(x))\n",
    "\n",
    "# One queen per diagonal xi - xj != i-j\n",
    "q_mdl.add(q_mdl.all_diff(x[i] + i for i in range(NQueens)))\n",
    "\n",
    "# One queen per diagonal xi - xj != j-i\n",
    "q_mdl.add(q_mdl.all_diff(x[i] - i for i in range(NQueens)))\n",
    "\n"
   ]
  },
  {
   "cell_type": "code",
   "execution_count": 102,
   "id": "9ea18730",
   "metadata": {},
   "outputs": [
    {
     "name": "stdout",
     "output_type": "stream",
     "text": [
      " ! --------------------------------------------------- CP Optimizer 22.1.0.0 --\n",
      " ! Satisfiability problem - 8 variables, 3 constraints\n",
      " ! Initial process time : 0.01s (0.01s extraction + 0.00s propagation)\n",
      " !  . Log search space  : 24.0 (before), 24.0 (after)\n",
      " !  . Memory usage      : 267.2 kB (before), 267.2 kB (after)\n",
      " ! Using parallel search with 12 workers.\n",
      " ! ----------------------------------------------------------------------------\n",
      " !               Branches  Non-fixed    W       Branch decision\n",
      " *                     10  0.02s        1         8 != Line_3\n",
      " ! ----------------------------------------------------------------------------\n",
      " ! Search completed, 1 solution found.\n",
      " ! ----------------------------------------------------------------------------\n",
      " ! Number of branches     : 195\n",
      " ! Number of fails        : 75\n",
      " ! Total memory usage     : 5.7 MB (5.6 MB CP Optimizer + 0.0 MB Concert)\n",
      " ! Time spent in solve    : 0.02s (0.02s engine + 0.01s extraction)\n",
      " ! Search speed (br. / s) : 13000.0\n",
      " ! ----------------------------------------------------------------------------\n"
     ]
    }
   ],
   "source": [
    "solution = q_mdl.solve()"
   ]
  },
  {
   "cell_type": "code",
   "execution_count": 103,
   "id": "5e083c70",
   "metadata": {},
   "outputs": [
    {
     "name": "stdout",
     "output_type": "stream",
     "text": [
      "-------------------------------------------------------------------------------\n",
      "Model constraints: 3, variables: integer: 8, interval: 0, sequence: 0\n",
      "Solve status: Feasible\n",
      "Search status: SearchCompleted, stop cause: SearchHasNotBeenStopped\n",
      "Solve time: 0.02 sec\n",
      "-------------------------------------------------------------------------------\n",
      "Variables:\n",
      "   Line_0 = 5\n",
      "   Line_1 = 2\n",
      "   Line_2 = 8\n",
      "   Line_3 = 1\n",
      "   Line_4 = 4\n",
      "   Line_5 = 7\n",
      "   Line_6 = 3\n",
      "   Line_7 = 6\n"
     ]
    }
   ],
   "source": [
    "solution.print_solution()"
   ]
  },
  {
   "cell_type": "code",
   "execution_count": 104,
   "id": "47f42fe8",
   "metadata": {},
   "outputs": [
    {
     "name": "stdout",
     "output_type": "stream",
     "text": [
      "Solution: 5 2 8 1 4 7 3 6\n",
      " . . . . Q . . .\n",
      " . Q . . . . . .\n",
      " . . . . . . . Q\n",
      " Q . . . . . . .\n",
      " . . . Q . . . .\n",
      " . . . . . . Q .\n",
      " . . Q . . . . .\n",
      " . . . . . Q . .\n"
     ]
    }
   ],
   "source": [
    "from sys import stdout\n",
    "\n",
    "if solution:\n",
    "    stdout.write(\"Solution:\")\n",
    "    for v in x:\n",
    "        stdout.write(\" {}\".format(solution[v]))\n",
    "    stdout.write(\"\\n\")\n",
    "    # Draw chess board\n",
    "    for l in range(NQueens):\n",
    "        qx = solution[x[l]]-1\n",
    "        for c in range(NQueens):\n",
    "            stdout.write(\" \")\n",
    "            stdout.write(\"Q\" if c == qx else \".\")\n",
    "        stdout.write(\"\\n\")\n",
    "else:\n",
    "    stdout.write(\"Solve status: {}\\n\".format(solution.get_solve_status()))"
   ]
  },
  {
   "cell_type": "markdown",
   "id": "cfc983ae",
   "metadata": {},
   "source": [
    "## Wedding Table"
   ]
  },
  {
   "cell_type": "markdown",
   "id": "d2aa3cdb",
   "metadata": {},
   "source": [
    "### We want to sit six people around a round table such that:\n",
    "\n",
    "- Adam and Bernardette should sit together;\n",
    "- Christina and Emmet should sit together;\n",
    "- Emmet and Francis should not sit together;\n",
    "- Adam and Emmet should not sit together.\n",
    "\n",
    "### Make the model flexible so as to adapt to different problem sizes.\n",
    "### Improve performance by avoiding symmetries.\n",
    "\n",
    "\n"
   ]
  },
  {
   "cell_type": "markdown",
   "id": "ad73b889",
   "metadata": {},
   "source": [
    " Adam        1 <br>\n",
    " Bernardette 2 <br>\n",
    " Christina   3<br>\n",
    " Dina        4<br>\n",
    " Emmet       5<br>\n",
    " Francis     6<br>"
   ]
  },
  {
   "cell_type": "code",
   "execution_count": 105,
   "id": "b3ec747c",
   "metadata": {},
   "outputs": [],
   "source": [
    "table_size = 6\n",
    "adjacents = [[1,2], [3,5]]\n",
    "distants = [[5, 6], [1,5]]\n",
    "\n",
    "t_mdl = CpoModel()\n",
    "\n",
    "person_seat = t_mdl.integer_var_list(table_size, 1, table_size, \"person_seat\")\n",
    "\n",
    "t_mdl.add(t_mdl.all_diff(person_seat))\n",
    "\n",
    "# distances = [t_mdl.integer_var(domain=(-table_size+1, -1, 1, table_size-1), name='d'+str(pair[0])+str(pair[1])) for pair in adjacents]\n",
    "\n",
    "distances = []\n",
    "\n",
    "for pair in adjacents:\n",
    "    distances.append(t_mdl.integer_var(domain=(-table_size+1, -1, 1, table_size-1) , name='d'+str(pair[0])+str(pair[1])))\n",
    "    t_mdl.add(person_seat[pair[0]-1] - person_seat[pair[1]-1] == distances[-1])\n",
    "\n",
    "\n",
    "for pair in distants:\n",
    "        t_mdl.add(person_seat[pair[0]-1] - person_seat[pair[1]-1] !=1)\n",
    "        t_mdl.add(person_seat[pair[0]-1] - person_seat[pair[1]-1] !=-1)\n",
    "        t_mdl.add(person_seat[pair[0]-1] - person_seat[pair[1]-1] != table_size-1)\n",
    "        t_mdl.add(person_seat[pair[0]-1] - person_seat[pair[1]-1] != -table_size+1)\n",
    "\n",
    "t_mdl.add(person_seat[0] ==1)"
   ]
  },
  {
   "cell_type": "code",
   "execution_count": 106,
   "id": "c426a98a",
   "metadata": {},
   "outputs": [
    {
     "name": "stdout",
     "output_type": "stream",
     "text": [
      " ! --------------------------------------------------- CP Optimizer 22.1.0.0 --\n",
      " ! Satisfiability problem - 8 variables, 12 constraints\n",
      " ! Initial process time : 0.01s (0.01s extraction + 0.00s propagation)\n",
      " !  . Log search space  : 10.6 (before), 10.6 (after)\n",
      " !  . Memory usage      : 267.2 kB (before), 267.2 kB (after)\n",
      " ! Using parallel search with 12 workers.\n",
      " ! ----------------------------------------------------------------------------\n",
      " !               Branches  Non-fixed    W       Branch decision\n",
      " *                      4  0.02s        1         3  = person_seat_2\n",
      " ! ----------------------------------------------------------------------------\n",
      " ! Search completed, 1 solution found.\n",
      " ! ----------------------------------------------------------------------------\n",
      " ! Number of branches     : 100\n",
      " ! Number of fails        : 31\n",
      " ! Total memory usage     : 5.6 MB (5.6 MB CP Optimizer + 0.0 MB Concert)\n",
      " ! Time spent in solve    : 0.02s (0.02s engine + 0.01s extraction)\n",
      " ! Search speed (br. / s) : 7692.3\n",
      " ! ----------------------------------------------------------------------------\n"
     ]
    }
   ],
   "source": [
    "solution = t_mdl.solve()"
   ]
  },
  {
   "cell_type": "code",
   "execution_count": 107,
   "id": "9e410231",
   "metadata": {},
   "outputs": [
    {
     "name": "stdout",
     "output_type": "stream",
     "text": [
      "-------------------------------------------------------------------------------\n",
      "Model constraints: 12, variables: integer: 8, interval: 0, sequence: 0\n",
      "Solve status: Feasible\n",
      "Search status: SearchCompleted, stop cause: SearchHasNotBeenStopped\n",
      "Solve time: 0.02 sec\n",
      "-------------------------------------------------------------------------------\n",
      "Variables:\n",
      "   d12 = -5\n",
      "   d35 = -1\n",
      "   person_seat_0 = 1\n",
      "   person_seat_1 = 6\n",
      "   person_seat_2 = 3\n",
      "   person_seat_3 = 5\n",
      "   person_seat_4 = 4\n",
      "   person_seat_5 = 2\n"
     ]
    }
   ],
   "source": [
    "solution.print_solution()"
   ]
  },
  {
   "cell_type": "markdown",
   "id": "a9975c11",
   "metadata": {},
   "source": [
    "## Lazy Mailman"
   ]
  },
  {
   "cell_type": "markdown",
   "id": "b367d792",
   "metadata": {},
   "source": [
    "### A lazy mailman with few letters to deliver has set a goal of taking as long as possible to deliver the mail in the last street of his round\n",
    "\n",
    "- It has a straight street, with ten houses, all ten meters apart from each other;\n",
    "- He always walks at ten meters per minute, and wants to finish at house 6 (the person living there always offers him coffee and cake);\n",
    "- He has a (greedy) solution, starting in house 1, then going to house 10, then house 2, .... , and finally 6, which results in 45 minutes (9+8+7+6+5+4+3+2+1);\n",
    "- Model this problem in order to find a better solution (one that takes even longer than 45 minutes)."
   ]
  },
  {
   "cell_type": "code",
   "execution_count": 108,
   "id": "08410d6d",
   "metadata": {},
   "outputs": [],
   "source": [
    "n_houses = 10\n",
    "\n",
    "l_mdl = CpoModel()\n",
    "\n",
    "houses = l_mdl.integer_var_list(n_houses, 1, n_houses, \"Houses\")\n",
    "\n",
    "l_mdl.add(l_mdl.all_diff(houses))\n",
    "\n",
    "l_mdl.add(houses[n_houses-1] == 6) # finish at house 6\n",
    "\n",
    "distances = l_mdl.integer_var_list(n_houses-1, 1, n_houses, \"Distances\")\n",
    "\n",
    "for i in range(n_houses-1):\n",
    "    l_mdl.add(distances[i] == l_mdl.abs(houses[i+1] - houses[i]))\n",
    "\n",
    "dist = l_mdl.integer_var(0, n_houses * n_houses, \"Dist\")\n",
    "\n",
    "l_mdl.add(dist == l_mdl.sum(distances))\n",
    "l_mdl.add(l_mdl.maximize(dist))"
   ]
  },
  {
   "cell_type": "code",
   "execution_count": 109,
   "id": "19fc60c1",
   "metadata": {
    "scrolled": false
   },
   "outputs": [
    {
     "name": "stdout",
     "output_type": "stream",
     "text": [
      " ! --------------------------------------------------- CP Optimizer 22.1.0.0 --\n",
      " ! Maximization problem - 20 variables, 12 constraints\n",
      " ! TimeLimit            = 120\n",
      " ! Initial process time : 0.01s (0.01s extraction + 0.00s propagation)\n",
      " !  . Log search space  : 62.3 (before), 62.3 (after)\n",
      " !  . Memory usage      : 300.3 kB (before), 300.3 kB (after)\n",
      " ! Using parallel search with 12 workers.\n",
      " ! ----------------------------------------------------------------------------\n",
      " !          Best Branches  Non-fixed    W       Branch decision\n",
      "                        0         20                 -\n",
      " + New bound is 77\n",
      "                        0         19    1            -\n",
      " + New bound is 76\n",
      "                        4         17    1   F     1 != Houses_5\n",
      " + New bound is 75\n",
      " *            20       14  0.05s        1      (gap is 275.0%)\n",
      " *            33       23  0.05s        1      (gap is 127.3%)\n",
      " *            38       33  0.05s        1      (gap is 97.37%)\n",
      " *            41       67  0.05s        1      (gap is 82.93%)\n",
      " *            46       76  0.05s        1      (gap is 63.04%)\n",
      " *            47      486  0.05s        1      (gap is 59.57%)\n",
      "              47     1000          5    1         4 != Distances_0\n",
      "              47     1000          4    2   F     1  = Houses_0\n",
      " *            48      399  0.05s        3      (gap is 56.25%)\n",
      " *            49      891  0.05s        3      (gap is 53.06%)\n",
      "              49     1000          5    3         6 != Distances_5\n",
      "              49     1000          5    4         7  = Distances_7\n",
      "              49     1000          5    5   F     8 != Distances_0\n",
      "              49     1000          4    6   F     9 != Houses_3\n",
      "              49     1000          6    7         7 != Houses_8\n",
      "              49     1000          7    8   F     3 != Houses_1\n",
      "              49     1000          5    9   F     3  = Distances_5\n",
      " ! Time = 0.05s, Average fail depth = 14, Memory usage = 5.0 MB\n",
      " ! Current bound is 75 (gap is 53.06%)\n",
      " !          Best Branches  Non-fixed    W       Branch decision\n",
      "              49     1000          4   10   F     1 != Houses_1\n",
      "              49     1000          5   11   F     5  = Houses_4\n",
      "              49     1000          5   12   F    10 != Houses_3\n",
      "              49     2000          6    4         5  = Distances_2\n",
      "              49     2000          6    7   F     7 != Houses_0\n",
      "              49     2000          7   12   F     2 != Houses_2\n",
      "              49     2000          7    1   F     1  = Houses_4\n",
      "              49     2000          6    2   F     7  = Houses_2\n",
      "              49     2000          6    3   F     1  = Houses_2\n",
      "              49     2000          7    5   F     9 != Houses_4\n",
      "              49     2000          7    6   F     8  = Houses_4\n",
      "              49     2000          7    8         4 != Houses_1\n",
      "              49     2000          7   10   F     2  = Houses_7\n",
      "              49     2000          7   11         2 != Houses_2\n",
      "              49     3000          7    7         4 != Houses_4\n",
      "              49     2000          6    9         2  = Houses_5\n",
      "              49     3000          9   12         9  = Distances_0\n",
      "              49     3000          9    1   F     5  = Distances_1\n",
      "              49     3000          7    2   F     4 != Distances_2\n",
      "              49     3000          9    3         3 != Houses_0\n",
      " ! Time = 0.12s, Average fail depth = 15, Memory usage = 6.7 MB\n",
      " ! Current bound is 75 (gap is 53.06%)\n",
      " !          Best Branches  Non-fixed    W       Branch decision\n",
      "              49     4000          8    3   F     3 != Houses_5\n",
      "              49     3000          8    5        10 != Houses_3\n",
      "              49     3000          9    6   F     8 != Distances_4\n",
      "              49     3000          9    8            -\n",
      "              49     3000          8    9   F     2  = Houses_2\n",
      "              49     3000          7   10         1  = Houses_2\n",
      "              49     3000          7   11   F     7  = Distances_7\n",
      "              49     3000          7    4   F     4  = Distances_1\n",
      "              49     4000          7   12            -\n",
      "              49     4000          9    1         4 != Houses_0\n",
      "              49     4000          7    5   F     2 != Houses_1\n",
      "              49     4000          8    6   F     8 != Houses_3\n",
      "              49     4000          8    8   F     7  = Houses_4\n",
      "              49     4000          7   10   F     7  = Houses_0\n",
      "              49     4000          7   11         9  = Houses_3\n",
      "              49     4377         12    1   F     9 != Houses_6\n",
      " + New bound is 61 (gap is 24.49%)\n",
      "              49     4000          6    2   F     7 != Distances_3\n",
      "              49     4000          9    4   F     4  = Distances_5\n",
      "              49     4000          7    7        10 != Houses_6\n",
      "              49     4000          7    9         2 != Houses_7\n",
      " ! Time = 0.14s, Average fail depth = 15, Memory usage = 7.1 MB\n",
      " ! Current bound is 61 (gap is 24.49%)\n",
      " !          Best Branches  Non-fixed    W       Branch decision\n",
      "              49     5000          7   12   F     3 != Houses_2\n",
      "              49     5000          7    3         2 != Houses_6\n",
      "              49     5000          7    5   F     2  = Houses_2\n",
      "              49     5000          7    6   F    10  = Houses_1\n",
      "              49     5000          7    8   F     8 != Houses_5\n",
      "              49     5000          9   10         4 != Distances_3\n",
      "              49     5000          6    1         5 != Houses_5\n",
      "              49     5000          7    2   F     7 != Distances_1\n",
      "              49     5000          9    4         5 != Houses_5\n",
      "              49     5000          9    7   F    10 != Houses_6\n",
      "              49     5000         10    9         1  = Houses_1\n",
      "              49     5000          9   11         7 != Houses_6\n",
      "              49     6000          7   12   F     1 != Houses_7\n",
      "              49     6000          3    3         9  = Houses_1\n",
      "              49     6000          7    5            -\n",
      "              49     6000          3    6         4  = Distances_8\n",
      "              49     6000          7    8            -\n",
      "              49     6000          7   10   F     8  = Distances_5\n",
      "              49     6000          6    1         4 != Distances_5\n",
      "              49     6000          7    2         3  = Houses_6\n",
      " ! Time = 0.20s, Average fail depth = 15, Memory usage = 7.4 MB\n",
      " ! Current bound is 61 (gap is 24.49%)\n",
      " !          Best Branches  Non-fixed    W       Branch decision\n",
      "              49     6000          8    4   F     8 != Houses_7\n",
      "              49     6000          9    7         5 != Houses_5\n",
      "              49     6000          9    9         1 != Houses_7\n",
      "              49     6000          9   11   F     2 != Houses_6\n",
      "              49     7000          7   12         8 != Houses_1\n",
      "              49     7000          8    3   F     3  = Houses_1\n",
      "              49     7000          7    5   F     5  = Houses_5\n",
      "              49     7000          7    6   F     9 != Distances_2\n",
      "              49     7000          9    8   F     4  = Houses_5\n",
      "              49     7000          7   10   F     9 != Houses_4\n",
      "              49     7000          6    1         8  = Houses_2\n",
      "              49     7000         10    2   F     8  = Houses_1\n",
      "              49     7035         12    2   F     3 != Houses_6\n",
      " + New bound is 54 (gap is 10.20%)\n",
      "              49     7000          7    4   F     8 != Houses_1\n",
      "              49     7000          6    7         4 != Houses_7\n",
      "              49     7000          9    9   F     1  = Houses_0\n",
      "              49     7000         10   11   F    10 != Houses_2\n",
      "              49     8000          7   12         1  = Distances_3\n",
      "              49     8000          7    3   F     1  = Houses_2\n",
      "              49     8000          7    5   F     1 != Houses_2\n",
      " ! Time = 0.25s, Average fail depth = 15, Memory usage = 8.0 MB\n",
      " ! Current bound is 54 (gap is 10.20%)\n",
      " !          Best Branches  Non-fixed    W       Branch decision\n",
      "              49     8000          7    6            -\n",
      "              49     8000          7    8   F     8 != Houses_2\n",
      "              49     8000          7    9   F     1 != Houses_7\n",
      "              49     8000          6   10         3 != Houses_3\n",
      "              49     8000          4    1         7 != Houses_2\n"
     ]
    },
    {
     "name": "stdout",
     "output_type": "stream",
     "text": [
      "              49     8000          7    4   F     8  = Houses_3\n",
      "              49     8000          9    7        10 != Houses_6\n",
      "              49     8000          9   11   F     1 != Houses_2\n",
      "              49     9000          7   12   F     4  = Houses_6\n",
      "              49     9000          7    1        10  = Houses_3\n",
      "              49     8000          9    2   F     1  = Houses_5\n",
      "              49     9000          9    3   F     8 != Houses_5\n",
      "              49     9000          7    4         5 != Houses_5\n",
      "              49     9000          7    5   F     4  = Houses_2\n",
      "              49     9000          9    6            -\n",
      "              49     9000          7    8   F     1  = Houses_3\n",
      "              49     9000          7    9         9 != Houses_1\n",
      "              49     9000          7   10   F     3  = Houses_4\n",
      "              49     9000          8    7         4  = Houses_2\n",
      "              49     9000          7   11   F     1 != Houses_1\n",
      " ! Time = 0.27s, Average fail depth = 15, Memory usage = 8.0 MB\n",
      " ! Current bound is 54 (gap is 10.20%)\n",
      " !          Best Branches  Non-fixed    W       Branch decision\n",
      "              49    10000          7   12         8 != Houses_1\n",
      "              49    10000          7    1         5  = Houses_6\n",
      "              49     9000          9    2         1 != Distances_7\n",
      "              49    10000          7    4   F     4  = Distances_0\n",
      "              49    10000          9    5   F     5  = Houses_7\n",
      "              49    10000          7    6         5 != Houses_3\n",
      "              49    10000          9    8   F        -\n",
      "              49    10000          7    9         1 != Houses_4\n",
      "              49    10000          9    7   F     1  = Houses_2\n",
      "              49    10000          8   11         3 != Houses_5\n",
      "              49    11000          7   12         3 != Houses_5\n",
      "              49    11000          7    1         5  = Houses_5\n",
      "              49    10000          8    3   F    10  = Houses_6\n",
      "              49    11000          7    5   F    10  = Houses_6\n",
      "              49    11000          9    6         9 != Houses_5\n",
      "              49    11000          9    8   F     4  = Houses_5\n",
      "              49    11000         10    9   F     2  = Distances_4\n",
      "              49    10000          7   10   F     8 != Houses_0\n",
      "              49    10000          4    2   F     9 != Houses_1\n",
      "              49    11000          7    4         1 != Houses_7\n",
      " ! Time = 0.33s, Average fail depth = 15, Memory usage = 8.0 MB\n",
      " ! Current bound is 54 (gap is 10.20%)\n",
      " !          Best Branches  Non-fixed    W       Branch decision\n",
      "              49    12000          7   12   F     2  = Houses_1\n",
      "              49    12000          7    1   F     9 != Houses_2\n",
      "              49    11000          7    3         9 != Houses_2\n",
      "              49    12000          5    4   F     5  = Houses_1\n",
      "              49    12000          9    5   F     1 != Houses_3\n",
      "              49    12000          7    6            -\n",
      "              49    11000          8    7   F     7  = Houses_2\n",
      "              49    12000          8    8   F     4  = Houses_6\n",
      "              49    11000          7   10   F     7 != Houses_3\n",
      "              49    11000          4    2         9 != Houses_1\n",
      "              49    12000          6    9   F    10  = Houses_5\n",
      "              49    11000          5   11   F     1 != Houses_3\n",
      "              49    13000          7   12            -\n",
      "              49    12000          7    3         2 != Distances_7\n",
      "              49    13000          7    5   F     7  = Houses_4\n",
      "              49    12000          8    7   F     7  = Distances_1\n",
      "              49    13000          7    8         4 != Houses_6\n",
      "              49    13000          6    9   F    10  = Houses_2\n",
      "              49    12000          7   10   F     8  = Houses_6\n",
      "              49    13000          4    1   F     4  = Houses_3\n",
      " ! Time = 0.38s, Average fail depth = 15, Memory usage = 7.9 MB\n",
      " ! Current bound is 54 (gap is 10.20%)\n",
      " !          Best Branches  Non-fixed    W       Branch decision\n",
      "              49    12000          7    2         4 != Houses_3\n",
      "              49    13000          6    4   F    10  = Houses_3\n",
      "              49    12000          9   11         2 != Distances_4\n",
      "              49    14000          9   12   F     2  = Distances_6\n",
      "              49    14000          8    1   F     5  = Houses_5\n",
      "              49    13000          7    3   F     1 != Houses_1\n",
      "              49    14000          9    4         2  = Houses_1\n",
      "              49    14000          9    5   F     5  = Houses_0\n",
      "              49    13000          8    6   F     2 != Houses_1\n",
      "              49    13000          4    7         4 != Distances_4\n",
      "              49    14000          4    8   F     5 != Houses_4\n",
      "              49    13000          5   10         4 != Houses_7\n",
      "              49    13000          7    2         4  = Distances_4\n",
      "              49    14000          6    9        10 != Houses_3\n",
      "              49    13000          7   11   F     5 != Distances_1\n",
      "              49    15000          7   12   F     2  = Houses_4\n",
      "              49    14000          9    2         1  = Houses_4\n",
      "              49    14000          7    3   F     8 != Houses_1\n",
      "              49    15000          8    4         9  = Houses_6\n",
      "              49    15000          9    5         1 != Houses_1\n",
      " ! Time = 0.43s, Average fail depth = 15, Memory usage = 7.8 MB\n",
      " ! Current bound is 54 (gap is 10.20%)\n",
      " !          Best Branches  Non-fixed    W       Branch decision\n",
      "              49    14000          7    6            -\n",
      "              49    14000          8    7   F     1  = Houses_2\n",
      "              49    15000          7    8   F     2 != Houses_6\n",
      "              49    15000          7    9   F     5  = Houses_1\n",
      "              49    14000          7   10            -\n",
      "              49    14000          7   11         7 != Houses_6\n",
      "              49    15000          7    1         8 != Houses_5\n",
      "              49    16000          9   12   F     4  = Houses_3\n",
      "              49    16000          6    1         5 != Houses_5\n",
      "              49    15000          6    2   F     5  = Houses_4\n",
      "              49    15000          9    3         3 != Distances_1\n",
      "              49    16000          7    5        10 != Houses_5\n",
      "              49    15000          8    6   F     4  = Houses_6\n",
      "              49    15000          7    7         1 != Houses_1\n",
      "              49    16000          7    8   F     8  = Houses_2\n",
      "              49    15000          7   10   F    10 != Houses_3\n",
      "              49    16000          9    4   F     1  = Houses_4\n",
      "              49    16000          7    9         6  = Distances_6\n",
      "              49    15000          8   11   F     7  = Houses_4\n",
      "              49    17000          7   12         8  = Distances_2\n",
      " ! Time = 0.47s, Average fail depth = 15, Memory usage = 7.8 MB\n",
      " ! Current bound is 54 (gap is 10.20%)\n",
      " !          Best Branches  Non-fixed    W       Branch decision\n",
      "              49    17000          4    1   F     4  = Houses_2\n",
      "              49    16000          7    3         8 != Houses_5\n",
      "              49    17000          3    4         5 != Houses_3\n",
      "              49    17000          7    5   F     2 != Houses_4\n",
      "              49    16000          7    6   F     2  = Houses_1\n",
      "              49    16000          6    7   F     6  = Distances_1\n",
      "              49    17000          7    8   F     1 != Houses_2\n",
      "              49    17000          6    9         5  = Distances_2\n",
      "              49    16000          7   10            -\n",
      "              49    16000          6    2   F     1  = Houses_5\n",
      "              49    16000          9   11         2  = Houses_2\n",
      "              49    18000          7   12   F    10  = Houses_5\n",
      "              49    17000          7    3         3  = Houses_7\n",
      "              49    18000          6    4         5  = Distances_5\n",
      "              49    18000          7    5   F     2  = Houses_5\n",
      "              49    17000          7    6            -\n",
      "              49    18000          7    8         1  = Houses_5\n",
      "              49    17000          7   10         7  = Houses_0\n",
      "              49    18000          4    1         5  = Houses_0\n",
      "              49    17000          4    2   F     3  = Houses_8\n",
      " ! Time = 0.49s, Average fail depth = 15, Memory usage = 7.7 MB\n"
     ]
    },
    {
     "name": "stdout",
     "output_type": "stream",
     "text": [
      " ! Current bound is 54 (gap is 10.20%)\n",
      " !          Best Branches  Non-fixed    W       Branch decision\n",
      "              49    17000          6    7   F     1  = Houses_2\n",
      "              49    18000          5    9         9 != Houses_7\n",
      "              49    17000          9   11         5  = Houses_5\n",
      "              49    19000          7    1   F     9  = Distances_3\n",
      "              49    18000          4    2   F     3 != Houses_6\n",
      "              49    18000          9    3   F     7 != Houses_7\n",
      "              49    19000          6    4   F     5  = Distances_5\n",
      "              49    19000          7    5        10 != Houses_4\n",
      "              49    18000          7    6            -\n",
      "              49    18000          4    7         8 != Distances_3\n",
      "              49    19000          9    8   F     1  = Distances_3\n",
      "              49    19000          8    9         1 != Distances_6\n",
      "              49    18000          7   10   F     2  = Houses_3\n",
      "              49    18787          7    7   F     3 != Houses_6\n",
      " + New bound is 53 (gap is 8.16%)\n",
      "              49    18000          6   11         6 != Distances_1\n",
      "              49    19000          7   12         1 != Houses_2\n",
      "              49    19000          7    3   F     5  = Houses_3\n",
      "              49    20000          7    5            -\n",
      "              49    19000          7    6   F     7  = Houses_1\n",
      "              49    19000          7    7         7  = Houses_5\n",
      " ! Time = 0.53s, Average fail depth = 15, Memory usage = 7.8 MB\n",
      " ! Current bound is 53 (gap is 8.16%)\n",
      " !          Best Branches  Non-fixed    W       Branch decision\n",
      "              49    20000          8    9         1 != Houses_5\n",
      "              49    19000          7   10         7 != Houses_1\n",
      "              49    19000          8   11         3 != Distances_6\n",
      "              49    20000          4    1   F        -\n",
      "              49    19000          7    2         4 != Distances_3\n",
      "              49    19321          8    2   F     2 != Distances_7\n",
      " + New bound is 52 (gap is 6.12%)\n",
      "              49    19716          8    4   F     5 != Houses_4\n",
      " + New bound is 51 (gap is 4.08%)\n",
      "              49    20000          8    4   F     5  = Houses_6\n",
      "              49    21000          8    5         6 != Distances_1\n",
      "              49    20000          9    6         4 != Houses_6\n",
      "              49    20000          8    7   F     7  = Houses_4\n",
      "              49    20000          7    8            -\n",
      "              49    20000          7   10   F     2  = Houses_4\n",
      "              49    20000         10   11   F     1  = Houses_2\n",
      "              49    20000          9   12   F     1  = Houses_2\n",
      "              49    20000          8    2         5 != Houses_3\n",
      "              49    20000          7    3        10 != Houses_3\n",
      "              49    21000          7    4         8 != Houses_3\n",
      "              49    21000          9    6         8  = Houses_4\n",
      "              49    21000          7    7         1 != Houses_7\n",
      " ! Time = 0.58s, Average fail depth = 15, Memory usage = 7.7 MB\n",
      " ! Current bound is 51 (gap is 4.08%)\n",
      " !          Best Branches  Non-fixed    W       Branch decision\n",
      "              49    21000          9    8         5 != Houses_1\n",
      "              49    21000          9    9         2 != Distances_6\n",
      "              49    21000          3   10         5 != Houses_7\n",
      "              49    21000          9   11   F     7  = Houses_5\n",
      "              49    21000          7   12            -\n",
      "              49    21000          9    1   F        -\n",
      "              49    21000          7    3            -\n",
      "              49    22000          7    4   F     1  = Houses_5\n",
      "              49    20810          8    2            -\n",
      " + New bound is 49 (gap is 0.00%)\n",
      " ! ----------------------------------------------------------------------------\n",
      " ! Search completed, 8 solutions found.\n",
      " ! Best objective         : 49 (optimal - effective tol. is 0)\n",
      " ! Best bound             : 49\n",
      " ! ----------------------------------------------------------------------------\n",
      " ! Number of branches     : 259642\n",
      " ! Number of fails        : 127924\n",
      " ! Total memory usage     : 8.2 MB (8.1 MB CP Optimizer + 0.0 MB Concert)\n",
      " ! Time spent in solve    : 0.58s (0.58s engine + 0.01s extraction)\n",
      " ! Search speed (br. / s) : 454714.5\n",
      " ! ----------------------------------------------------------------------------\n"
     ]
    }
   ],
   "source": [
    "solution = l_mdl.solve(TimeLimit = 120)"
   ]
  },
  {
   "cell_type": "code",
   "execution_count": 110,
   "id": "3fe95a83",
   "metadata": {},
   "outputs": [
    {
     "name": "stdout",
     "output_type": "stream",
     "text": [
      "-------------------------------------------------------------------------------\n",
      "Model constraints: 12, variables: integer: 20, interval: 0, sequence: 0\n",
      "Solve status: Optimal\n",
      "Search status: SearchCompleted, stop cause: SearchHasNotBeenStopped\n",
      "Solve time: 0.57 sec\n",
      "-------------------------------------------------------------------------------\n",
      "Objective values: (49,), bounds: (49,), gaps: (0,)\n",
      "Variables:\n",
      "   Dist = 49\n",
      "   Distances_0 = 4\n",
      "   Distances_1 = 5\n",
      "   Distances_2 = 4\n",
      "   Distances_3 = 5\n",
      "   Distances_4 = 7\n",
      "   Distances_5 = 9\n",
      "   Distances_6 = 6\n",
      "   Distances_7 = 5\n",
      "   Distances_8 = 4\n",
      "   Houses_0 = 5\n",
      "   Houses_1 = 9\n",
      "   Houses_2 = 4\n",
      "   Houses_3 = 8\n",
      "   Houses_4 = 3\n",
      "   Houses_5 = 10\n",
      "   Houses_6 = 1\n",
      "   Houses_7 = 7\n",
      "   Houses_8 = 2\n",
      "   Houses_9 = 6\n"
     ]
    }
   ],
   "source": [
    "if solution:\n",
    "    solution.print_solution()"
   ]
  },
  {
   "cell_type": "markdown",
   "id": "9eefcf75",
   "metadata": {},
   "source": [
    "## Map Coloring"
   ]
  },
  {
   "cell_type": "markdown",
   "id": "e48d04f7",
   "metadata": {},
   "source": [
    "### Map coloring is a classical problem, with the goal of coloring a map with N different colors such that no two adjacent areas have similar colors\n",
    "\n",
    "- Solving the problem for Australia using the minimum amount of colors possible (and at most 5 colors)"
   ]
  },
  {
   "cell_type": "code",
   "execution_count": 111,
   "id": "15fd4750",
   "metadata": {},
   "outputs": [],
   "source": [
    "c_mdl = CpoModel()\n",
    "\n",
    "n_states = 7\n",
    "\n",
    "state_names  = ['WA', 'NT', 'SA', 'Q', 'NSW', 'V', 'T']\n",
    "\n",
    "state_adjancies = [(1,2), (1,3), (2,3), (2,4), (3,4), (3,5), (3,6), (4,5), (5,6)]\n",
    "\n",
    "max_colors = 5\n",
    "\n",
    "state_colors = c_mdl.integer_var_list(size=n_states, min=1, max=max_colors, name=\"State_Colors\")\n",
    "color_counts = c_mdl.integer_var_list(size=max_colors, min=0, max=n_states, name=\"Color_Counts\")\n",
    "all_colors = list(range(1, max_colors+1))\n",
    "\n",
    "for a, b in state_adjancies:\n",
    "    c_mdl.add(state_colors[a-1] != state_colors[b-1])\n",
    "\n",
    "c_mdl.add(c_mdl.distribute(color_counts, state_colors, all_colors))\n",
    "c_mdl.add(c_mdl.maximize(c_mdl.count(color_counts, 0)))"
   ]
  },
  {
   "cell_type": "code",
   "execution_count": 112,
   "id": "4114034c",
   "metadata": {},
   "outputs": [
    {
     "name": "stdout",
     "output_type": "stream",
     "text": [
      " ! --------------------------------------------------- CP Optimizer 22.1.0.0 --\n",
      " ! Maximization problem - 12 variables, 10 constraints\n",
      " ! Presolve      : 9 extractables eliminated, 4 constraints generated\n",
      " ! TimeLimit            = 120\n",
      " ! Initial process time : 0.01s (0.01s extraction + 0.00s propagation)\n",
      " !  . Log search space  : 31.3 (before), 31.3 (after)\n",
      " !  . Memory usage      : 299.5 kB (before), 299.5 kB (after)\n",
      " ! Using parallel search with 12 workers.\n",
      " ! ----------------------------------------------------------------------------\n",
      " !          Best Branches  Non-fixed    W       Branch decision\n",
      "                        0         12                 -\n",
      " + New bound is 5\n",
      "                        0         12    1            -\n",
      " + New bound is 4\n",
      "                        8         12    1   F     4 != State_Colors_5\n",
      " + New bound is 3\n",
      " *             2       15  0.03s        1      (gap is 50.00%)\n",
      "               2       88          4    1            -\n",
      " + New bound is 2 (gap is 0.00%)\n",
      " ! ----------------------------------------------------------------------------\n",
      " ! Search completed, 1 solution found.\n",
      " ! Best objective         : 2 (optimal - effective tol. is 0)\n",
      " ! Best bound             : 2\n",
      " ! ----------------------------------------------------------------------------\n",
      " ! Number of branches     : 6589\n",
      " ! Number of fails        : 3505\n",
      " ! Total memory usage     : 6.5 MB (6.5 MB CP Optimizer + 0.0 MB Concert)\n",
      " ! Time spent in solve    : 0.03s (0.03s engine + 0.01s extraction)\n",
      " ! Search speed (br. / s) : 263560.0\n",
      " ! ----------------------------------------------------------------------------\n"
     ]
    }
   ],
   "source": [
    "solution = c_mdl.solve(TimeLimit=120)"
   ]
  },
  {
   "cell_type": "code",
   "execution_count": 113,
   "id": "03a18190",
   "metadata": {},
   "outputs": [
    {
     "name": "stdout",
     "output_type": "stream",
     "text": [
      "-------------------------------------------------------------------------------\n",
      "Model constraints: 10, variables: integer: 12, interval: 0, sequence: 0\n",
      "Solve status: Optimal\n",
      "Search status: SearchCompleted, stop cause: SearchHasNotBeenStopped\n",
      "Solve time: 0.03 sec\n",
      "-------------------------------------------------------------------------------\n",
      "Objective values: (2,), bounds: (2,), gaps: (0,)\n",
      "Variables:\n",
      "   Color_Counts_0 = 4\n",
      "   Color_Counts_1 = 1\n",
      "   Color_Counts_2 = 2\n",
      "   Color_Counts_3 = 0\n",
      "   Color_Counts_4 = 0\n",
      "   State_Colors_0 = 1\n",
      "   State_Colors_1 = 3\n",
      "   State_Colors_2 = 2\n",
      "   State_Colors_3 = 1\n",
      "   State_Colors_4 = 3\n",
      "   State_Colors_5 = 1\n",
      "   State_Colors_6 = 1\n"
     ]
    }
   ],
   "source": [
    "solution.print_solution()"
   ]
  },
  {
   "cell_type": "markdown",
   "id": "39e60b06",
   "metadata": {},
   "source": [
    "## Holiday Bus Company"
   ]
  },
  {
   "cell_type": "markdown",
   "id": "3ac5956d",
   "metadata": {},
   "source": [
    "### A bus company has several buses that can be used to ferry several groups of tourists to their vacation destination.\n",
    "\n",
    "- Different buses have different capacities, and each group of tourists has a different size;\n",
    "- The goal is to allocate groups of tourists to buses such that each group is not separated (the entire group travels in the same bus);\n",
    "- The goal is also to minimize the number of buses (each bus may ferry several groups).\n",
    "\n",
    "#### Example problem imput:\n",
    "- 4 buses with capacities of 11, 14, 10, 20\n",
    "- 5 groups of sizes 5, 5, 7, 4, 3\n"
   ]
  },
  {
   "cell_type": "code",
   "execution_count": 114,
   "id": "6627d07e",
   "metadata": {},
   "outputs": [],
   "source": [
    "h_mdl = CpoModel()\n",
    "\n",
    "# Groups and weights (sizes)\n",
    "\n",
    "n_groups = 5\n",
    "weights = [5, 5, 7, 4, 3]\n",
    "\n",
    "# Buses and max loads\n",
    "\n",
    "n_buses = 4 \n",
    "max_load = [11, 14, 10, 20]\n",
    "max_max_load = max(max_load)\n",
    "loads = h_mdl.integer_var_list(size=n_buses, min=0, max=max_max_load, name='Loads' )\n",
    "\n",
    "# Attribution or packing\n",
    "\n",
    "pack_id = h_mdl.integer_var_list(size=n_groups, min=1, max=n_buses, name='Pack_ID')\n",
    "\n",
    "# Used buses (non-zero)\n",
    "\n",
    "non_zero = h_mdl.integer_var(min=1, max=n_buses, name='Non-Zero')\n",
    "\n",
    "for i in range(n_buses):\n",
    "        h_mdl.add(loads[i] <= max_load[i])\n",
    "\n",
    "h_mdl.add(h_mdl.pack(load=loads, where=pack_id, size=weights, used=non_zero ))\n",
    "\n",
    "h_mdl.add(h_mdl.minimize(non_zero))\n"
   ]
  },
  {
   "cell_type": "code",
   "execution_count": 115,
   "id": "88644a1b",
   "metadata": {},
   "outputs": [
    {
     "name": "stdout",
     "output_type": "stream",
     "text": [
      " ! --------------------------------------------------- CP Optimizer 22.1.0.0 --\n",
      " ! Minimization problem - 10 variables, 5 constraints\n",
      " ! TimeLimit            = 120\n",
      " ! Initial process time : 0.01s (0.01s extraction + 0.00s propagation)\n",
      " !  . Log search space  : 20.7 (before), 20.7 (after)\n",
      " !  . Memory usage      : 299.4 kB (before), 299.4 kB (after)\n",
      " ! Using parallel search with 12 workers.\n",
      " ! ----------------------------------------------------------------------------\n",
      " !          Best Branches  Non-fixed    W       Branch decision\n",
      "                        0         10                 -\n",
      " + New bound is 2\n",
      " *             2        2  0.02s        1      (gap is 0.00%)\n",
      " ! ----------------------------------------------------------------------------\n",
      " ! Search completed, 1 solution found.\n",
      " ! Best objective         : 2 (optimal - effective tol. is 0)\n",
      " ! Best bound             : 2\n",
      " ! ----------------------------------------------------------------------------\n",
      " ! Number of branches     : 255\n",
      " ! Number of fails        : 140\n",
      " ! Total memory usage     : 6.2 MB (6.2 MB CP Optimizer + 0.0 MB Concert)\n",
      " ! Time spent in solve    : 0.02s (0.02s engine + 0.01s extraction)\n",
      " ! Search speed (br. / s) : 15937.5\n",
      " ! ----------------------------------------------------------------------------\n"
     ]
    }
   ],
   "source": [
    "solution = h_mdl.solve(TimeLimit=120)"
   ]
  },
  {
   "cell_type": "code",
   "execution_count": 116,
   "id": "41f44fdc",
   "metadata": {},
   "outputs": [
    {
     "name": "stdout",
     "output_type": "stream",
     "text": [
      "-------------------------------------------------------------------------------\n",
      "Model constraints: 5, variables: integer: 10, interval: 0, sequence: 0\n",
      "Solve status: Optimal\n",
      "Search status: SearchCompleted, stop cause: SearchHasNotBeenStopped\n",
      "Solve time: 0.02 sec\n",
      "-------------------------------------------------------------------------------\n",
      "Objective values: (2,), bounds: (2,), gaps: (0,)\n",
      "Variables:\n",
      "   Loads_0 = 0\n",
      "   Loads_1 = 12\n",
      "   Loads_2 = 0\n",
      "   Loads_3 = 12\n",
      "   Non-Zero = 2\n",
      "   Pack_ID_0 = 1\n",
      "   Pack_ID_1 = 3\n",
      "   Pack_ID_2 = 1\n",
      "   Pack_ID_3 = 3\n",
      "   Pack_ID_4 = 3\n"
     ]
    }
   ],
   "source": [
    "solution.print_solution()"
   ]
  },
  {
   "cell_type": "markdown",
   "id": "8b329b84",
   "metadata": {},
   "source": [
    "## Golomb ruler"
   ]
  },
  {
   "cell_type": "markdown",
   "id": "d2fec3d8",
   "metadata": {},
   "source": [
    "A Golomb Ruler of order M and length L consists of M marks placed at unit intervals (i.e. integer positions) along an imaginary ruler such that the differences in spacing between every pair of marks are all distinct, i.e. no two pairs of marks are the same distance apart. The number of marks on the ruler is its order, and the largest distance between two of its marks is its length."
   ]
  },
  {
   "cell_type": "code",
   "execution_count": 117,
   "id": "7f2b32d3",
   "metadata": {},
   "outputs": [],
   "source": [
    "# Number of marks on the ruler\n",
    "ORDER = 5\n",
    "\n",
    "# Estimate an upper bound to the ruler length\n",
    "# MAX_LENGTH = (ORDER - 1) ** 2\n",
    "\n",
    "MAX_LENGTH = 12\n",
    "\n",
    "#-----------------------------------------------------------------------------\n",
    "# Build the model\n",
    "#-----------------------------------------------------------------------------\n",
    "\n",
    "# Create model\n",
    "mdl = CpoModel()\n",
    "\n",
    "# Create array of variables corresponding to position ruler marks\n",
    "marks = mdl.integer_var_list(ORDER, 0, MAX_LENGTH, \"M\")\n",
    "\n",
    "# Create marks distances that should be all different\n",
    "dist = [marks[i] - marks[j] for i in range(1, ORDER) for j in range(0, i)]\n",
    "mdl.add(mdl.all_diff(dist))\n",
    "\n",
    "# Avoid symmetric solutions by ordering marks\n",
    "mdl.add(marks[0] == 0)\n",
    "for i in range(1, ORDER):\n",
    "    mdl.add(marks[i] > marks[i - 1])\n",
    "\n",
    "# Avoid mirror solution\n",
    "mdl.add((marks[1] - marks[0]) < (marks[ORDER - 1] - marks[ORDER - 2]))\n",
    "\n",
    "# Minimize ruler size (position of the last mark)\n",
    "mdl.add(mdl.minimize(marks[ORDER - 1]))"
   ]
  },
  {
   "cell_type": "code",
   "execution_count": 118,
   "id": "bde0dd3c",
   "metadata": {},
   "outputs": [
    {
     "name": "stdout",
     "output_type": "stream",
     "text": [
      " ! --------------------------------------------------- CP Optimizer 22.1.0.0 --\n",
      " ! Minimization problem - 5 variables, 7 constraints\n",
      " ! Initial process time : 0.01s (0.01s extraction + 0.00s propagation)\n",
      " !  . Log search space  : 12.0 (before), 12.0 (after)\n",
      " !  . Memory usage      : 267.1 kB (before), 267.1 kB (after)\n",
      " ! Using parallel search with 12 workers.\n",
      " ! ----------------------------------------------------------------------------\n",
      " !          Best Branches  Non-fixed    W       Branch decision\n",
      "                        0          5                 -\n",
      " + New bound is 5\n",
      "                        0          4    1            -\n",
      " + New bound is 6\n",
      "                        2          3    1   F     3 != M_3\n",
      " + New bound is 7\n",
      " *            12       17  0.03s        1      (gap is 41.67%)\n",
      "-------------------------------------------------------------------------------\n",
      "Model constraints: 7, variables: integer: 5, interval: 0, sequence: 0\n",
      "Solve status: Feasible\n",
      "Search status: SearchOngoing, stop cause: SearchHasNotBeenStopped\n",
      "Solve time: 0.03 sec\n",
      "-------------------------------------------------------------------------------\n",
      "Objective values: (12,), bounds: (7,), gaps: (0.416667,)\n",
      "Variables:\n",
      "   M_0 = 0\n",
      "   M_1 = 1\n",
      "   M_2 = 3\n",
      "   M_3 = 7\n",
      "   M_4 = 12\n",
      " *            11       60  0.04s        1      (gap is 36.36%)\n",
      "-------------------------------------------------------------------------------\n",
      "Model constraints: 7, variables: integer: 5, interval: 0, sequence: 0\n",
      "Solve status: Feasible\n",
      "Search status: SearchOngoing, stop cause: SearchHasNotBeenStopped\n",
      "Solve time: 0.04 sec\n",
      "-------------------------------------------------------------------------------\n",
      "Objective values: (11,), bounds: (7,), gaps: (0.363636,)\n",
      "Variables:\n",
      "   M_0 = 0\n",
      "   M_1 = 1\n",
      "   M_2 = 4\n",
      "   M_3 = 9\n",
      "   M_4 = 11\n",
      "              11      135          1    1            -\n",
      " + New bound is 11 (gap is 0.00%)\n",
      " ! ----------------------------------------------------------------------------\n",
      " ! Search completed, 2 solutions found.\n",
      " ! Best objective         : 11 (optimal - effective tol. is 0)\n",
      " ! Best bound             : 11\n",
      " ! ----------------------------------------------------------------------------\n",
      " ! Number of branches     : 6799\n",
      " ! Number of fails        : 3691\n",
      " ! Total memory usage     : 5.9 MB (5.8 MB CP Optimizer + 0.0 MB Concert)\n",
      " ! Time spent in solve    : 0.05s (0.05s engine + 0.01s extraction)\n",
      " ! Search speed (br. / s) : 158116.3\n",
      " ! ----------------------------------------------------------------------------\n"
     ]
    }
   ],
   "source": [
    "lsol = mdl.start_search()\n",
    "for sol in lsol:\n",
    "    sol.write()"
   ]
  },
  {
   "cell_type": "code",
   "execution_count": 119,
   "id": "2fb52837",
   "metadata": {},
   "outputs": [
    {
     "name": "stdout",
     "output_type": "stream",
     "text": [
      " ! --------------------------------------------------- CP Optimizer 22.1.0.0 --\n",
      " ! Minimization problem - 5 variables, 7 constraints\n",
      " ! TimeLimit            = 100\n",
      " ! Initial process time : 0.01s (0.01s extraction + 0.00s propagation)\n",
      " !  . Log search space  : 12.0 (before), 12.0 (after)\n",
      " !  . Memory usage      : 267.1 kB (before), 267.1 kB (after)\n",
      " ! Using parallel search with 12 workers.\n",
      " ! ----------------------------------------------------------------------------\n",
      " !          Best Branches  Non-fixed    W       Branch decision\n",
      "                        0          5                 -\n",
      " + New bound is 5\n",
      "                        0          4    1            -\n",
      " + New bound is 6\n",
      "                        2          3    1   F     3 != M_3\n",
      " + New bound is 7\n",
      " *            12       17  0.03s        1      (gap is 41.67%)\n",
      " *            11       60  0.03s        1      (gap is 36.36%)\n",
      "              11      135          1    1            -\n",
      " + New bound is 11 (gap is 0.00%)\n",
      " ! ----------------------------------------------------------------------------\n",
      " ! Search completed, 2 solutions found.\n",
      " ! Best objective         : 11 (optimal - effective tol. is 0)\n",
      " ! Best bound             : 11\n",
      " ! ----------------------------------------------------------------------------\n",
      " ! Number of branches     : 6799\n",
      " ! Number of fails        : 3691\n",
      " ! Total memory usage     : 5.9 MB (5.8 MB CP Optimizer + 0.0 MB Concert)\n",
      " ! Time spent in solve    : 0.04s (0.03s engine + 0.01s extraction)\n",
      " ! Search speed (br. / s) : 242821.4\n",
      " ! ----------------------------------------------------------------------------\n"
     ]
    }
   ],
   "source": [
    "msol = mdl.solve(TimeLimit=100)"
   ]
  },
  {
   "cell_type": "code",
   "execution_count": 120,
   "id": "30d977f9",
   "metadata": {},
   "outputs": [
    {
     "name": "stdout",
     "output_type": "stream",
     "text": [
      "-------------------------------------------------------------------------------\n",
      "Model constraints: 7, variables: integer: 5, interval: 0, sequence: 0\n",
      "Solve status: Optimal\n",
      "Search status: SearchCompleted, stop cause: SearchHasNotBeenStopped\n",
      "Solve time: 0.03 sec\n",
      "-------------------------------------------------------------------------------\n",
      "Objective values: (11,), bounds: (11,), gaps: (0,)\n",
      "Variables:\n",
      "   M_0 = 0\n",
      "   M_1 = 1\n",
      "   M_2 = 4\n",
      "   M_3 = 9\n",
      "   M_4 = 11\n"
     ]
    }
   ],
   "source": [
    "msol.write()"
   ]
  },
  {
   "cell_type": "markdown",
   "id": "70783957",
   "metadata": {},
   "source": [
    "## The Traveling Salesman"
   ]
  },
  {
   "cell_type": "markdown",
   "id": "fd973415",
   "metadata": {},
   "source": [
    "- Let Cij = distance from city i to city j\n",
    "- Find the shortest route that visits each of n cities exactly once"
   ]
  },
  {
   "cell_type": "markdown",
   "id": "9cf7d676",
   "metadata": {},
   "source": [
    "AB - 5\n",
    "AC - 6\n",
    "AD - 3\n",
    "AE - 7\n",
    "BC - 8\n",
    "BD - 5\n",
    "CD - 7\n",
    "DE - 5\n",
    "EB - 4\n",
    "EC - 6\n",
    "EC - 7"
   ]
  },
  {
   "cell_type": "code",
   "execution_count": 71,
   "id": "71da6b93",
   "metadata": {},
   "outputs": [],
   "source": [
    "n_cities = 5\n",
    "distances = [[0, 5, 6, 3, 7], [5, 0, 8, 5, 4], [6, 8, 0, 7, 6], [3, 5, 7, 0, 5], [7, 4, 6, 5, 0]]\n",
    "\n",
    "t_mdl = CpoModel(name=\"TSP\")\n",
    "\n",
    "cities = t_mdl.integer_var_list(size=n_cities, min=1, max=n_cities, name=\"cities\")\n",
    "t_mdl.add(t_mdl.all_diff(cities))\n",
    "distances_v = t_mdl.integer_var_list(n_cities-1, 1, n_cities, \"Distances\")\n",
    "for i in range(n_cities-1):\n",
    "    t_mdl.add(distances_v[i] == t_mdl.abs(distances[i][i+1]))\n",
    "\n",
    "dist = t_mdl.integer_var(0, n_cities * n_cities, \"Dist\")\n",
    "\n",
    "t_mdl.add(dist == t_mdl.sum(distances_v))\n",
    "t_mdl.add(t_mdl.minimize(dist))"
   ]
  }
 ],
 "metadata": {
  "kernelspec": {
   "display_name": "Python 3 (ipykernel)",
   "language": "python",
   "name": "python3"
  },
  "language_info": {
   "codemirror_mode": {
    "name": "ipython",
    "version": 3
   },
   "file_extension": ".py",
   "mimetype": "text/x-python",
   "name": "python",
   "nbconvert_exporter": "python",
   "pygments_lexer": "ipython3",
   "version": "3.9.12"
  }
 },
 "nbformat": 4,
 "nbformat_minor": 5
}
